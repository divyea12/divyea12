{
  "nbformat": 4,
  "nbformat_minor": 0,
  "metadata": {
    "colab": {
      "provenance": [],
      "authorship_tag": "ABX9TyMQhR0V99Xx1xM4BHWWht7z",
      "include_colab_link": true
    },
    "kernelspec": {
      "name": "python3",
      "display_name": "Python 3"
    },
    "language_info": {
      "name": "python"
    }
  },
  "cells": [
    {
      "cell_type": "markdown",
      "metadata": {
        "id": "view-in-github",
        "colab_type": "text"
      },
      "source": [
        "<a href=\"https://colab.research.google.com/github/divyea12/divyea12/blob/main/TensorFlowBasics.ipynb\" target=\"_parent\"><img src=\"https://colab.research.google.com/assets/colab-badge.svg\" alt=\"Open In Colab\"/></a>"
      ]
    },
    {
      "cell_type": "code",
      "execution_count": 3,
      "metadata": {
        "id": "9IptjbGR5Lc0"
      },
      "outputs": [],
      "source": [
        "import tensorflow as tf"
      ]
    },
    {
      "cell_type": "code",
      "source": [
        "tensor_0_d = tf.constant(4)"
      ],
      "metadata": {
        "id": "4fRcsjsi5Nwv"
      },
      "execution_count": 4,
      "outputs": []
    },
    {
      "cell_type": "code",
      "source": [
        "print(tensor_0_d)"
      ],
      "metadata": {
        "colab": {
          "base_uri": "https://localhost:8080/"
        },
        "id": "z9oGXc4x5ORh",
        "outputId": "a47a4e53-e747-47ca-886a-b886611bd95d"
      },
      "execution_count": 5,
      "outputs": [
        {
          "output_type": "stream",
          "name": "stdout",
          "text": [
            "tf.Tensor(4, shape=(), dtype=int32)\n"
          ]
        }
      ]
    },
    {
      "cell_type": "code",
      "source": [
        "tensor_1_d = tf.constant([2,0,-3,4.0])"
      ],
      "metadata": {
        "id": "SV-a1Cn05Odn"
      },
      "execution_count": 6,
      "outputs": []
    },
    {
      "cell_type": "code",
      "source": [
        "print(tensor_1_d)"
      ],
      "metadata": {
        "colab": {
          "base_uri": "https://localhost:8080/"
        },
        "id": "VbQt_ugs5Oqd",
        "outputId": "20992612-4796-4396-d5a5-171efaf52e1d"
      },
      "execution_count": 7,
      "outputs": [
        {
          "output_type": "stream",
          "name": "stdout",
          "text": [
            "tf.Tensor([ 2.  0. -3.  4.], shape=(4,), dtype=float32)\n"
          ]
        }
      ]
    },
    {
      "cell_type": "code",
      "source": [
        "tensor_2_d = tf.constant([\n",
        "    [1,2,0],\n",
        "    [3,5,-1],\n",
        "    [1,5,6],\n",
        "    [2,3,8]\n",
        "\n",
        "])\n",
        "print(tensor_2_d)"
      ],
      "metadata": {
        "colab": {
          "base_uri": "https://localhost:8080/"
        },
        "id": "9RNqOwj05PAo",
        "outputId": "21f3d23b-aa64-410c-dc94-52948f7072aa"
      },
      "execution_count": 8,
      "outputs": [
        {
          "output_type": "stream",
          "name": "stdout",
          "text": [
            "tf.Tensor(\n",
            "[[ 1  2  0]\n",
            " [ 3  5 -1]\n",
            " [ 1  5  6]\n",
            " [ 2  3  8]], shape=(4, 3), dtype=int32)\n"
          ]
        }
      ]
    },
    {
      "cell_type": "code",
      "source": [
        "tensor_3_d = tf.constant([\n",
        "  [[1,2,0],\n",
        "   [2,3,-1]\n",
        "  ],\n",
        "  [\n",
        "      [6,-2,3],\n",
        "      [7,-8,9]\n",
        "  ],\n",
        "  [\n",
        "      [0,1,2],\n",
        "      [1,-2,3]\n",
        "  ]\n",
        "])\n",
        "print(tensor_3_d)"
      ],
      "metadata": {
        "colab": {
          "base_uri": "https://localhost:8080/"
        },
        "id": "36fWjtyr6VwD",
        "outputId": "a97758b5-a0ed-4bbe-9cba-7df26798bf2a"
      },
      "execution_count": 9,
      "outputs": [
        {
          "output_type": "stream",
          "name": "stdout",
          "text": [
            "tf.Tensor(\n",
            "[[[ 1  2  0]\n",
            "  [ 2  3 -1]]\n",
            "\n",
            " [[ 6 -2  3]\n",
            "  [ 7 -8  9]]\n",
            "\n",
            " [[ 0  1  2]\n",
            "  [ 1 -2  3]]], shape=(3, 2, 3), dtype=int32)\n"
          ]
        }
      ]
    },
    {
      "cell_type": "code",
      "source": [
        "tensor_one_d = tf.constant([1,2.1,5],dtype = tf.float32)\n",
        "print(tensor_one_d)"
      ],
      "metadata": {
        "colab": {
          "base_uri": "https://localhost:8080/"
        },
        "id": "9NLq_qi76V7u",
        "outputId": "ba35b18b-35d1-491c-b90b-67dae30a2492"
      },
      "execution_count": 10,
      "outputs": [
        {
          "output_type": "stream",
          "name": "stdout",
          "text": [
            "tf.Tensor([1.  2.1 5. ], shape=(3,), dtype=float32)\n"
          ]
        }
      ]
    },
    {
      "cell_type": "code",
      "source": [
        "casted_tensor = tf.cast(tensor_one_d,dtype= tf.int16)\n",
        "print(casted_tensor)"
      ],
      "metadata": {
        "colab": {
          "base_uri": "https://localhost:8080/"
        },
        "id": "YU_SeI0Q8QT8",
        "outputId": "98e79b3e-a835-4572-aeb0-4eac3fdcaf42"
      },
      "execution_count": 11,
      "outputs": [
        {
          "output_type": "stream",
          "name": "stdout",
          "text": [
            "tf.Tensor([1 2 5], shape=(3,), dtype=int16)\n"
          ]
        }
      ]
    },
    {
      "cell_type": "code",
      "source": [
        "casted_tensor = tf.cast(tf.constant([1,0,0],dtype = tf.int32), tf.bool)\n",
        "print(casted_tensor)"
      ],
      "metadata": {
        "colab": {
          "base_uri": "https://localhost:8080/"
        },
        "id": "_lmOjLuB-Zn_",
        "outputId": "3cb6d179-dc82-42e4-be07-ae4d360a9602"
      },
      "execution_count": 12,
      "outputs": [
        {
          "output_type": "stream",
          "name": "stdout",
          "text": [
            "tf.Tensor([ True False False], shape=(3,), dtype=bool)\n"
          ]
        }
      ]
    },
    {
      "cell_type": "code",
      "source": [
        "tensor_bool = tf.constant([True,True,False])\n",
        "print(tensor_bool)"
      ],
      "metadata": {
        "colab": {
          "base_uri": "https://localhost:8080/"
        },
        "id": "0GTjRdvZ8Qfe",
        "outputId": "11e1b7a1-fb8b-4efd-fc33-b9ce53e7a717"
      },
      "execution_count": 13,
      "outputs": [
        {
          "output_type": "stream",
          "name": "stdout",
          "text": [
            "tf.Tensor([ True  True False], shape=(3,), dtype=bool)\n"
          ]
        }
      ]
    },
    {
      "cell_type": "code",
      "source": [
        "tensor_string = tf.constant([\"hello world\",\"hi\"])\n",
        "print(tensor_string)"
      ],
      "metadata": {
        "colab": {
          "base_uri": "https://localhost:8080/"
        },
        "id": "Fi_BnW3u-9vS",
        "outputId": "4ce6301c-ce37-4a9a-827c-15e610d44b5c"
      },
      "execution_count": 14,
      "outputs": [
        {
          "output_type": "stream",
          "name": "stdout",
          "text": [
            "tf.Tensor([b'hello world' b'hi'], shape=(2,), dtype=string)\n"
          ]
        }
      ]
    },
    {
      "cell_type": "code",
      "source": [
        "import numpy as np"
      ],
      "metadata": {
        "id": "oefk6t-k--HO"
      },
      "execution_count": 15,
      "outputs": []
    },
    {
      "cell_type": "code",
      "source": [
        "np_array = np.array([1,2,4])\n",
        "print(np_array)"
      ],
      "metadata": {
        "colab": {
          "base_uri": "https://localhost:8080/"
        },
        "id": "AT3m1FDt--Re",
        "outputId": "9038901a-5896-48c8-b47d-94c4f003e2ff"
      },
      "execution_count": 16,
      "outputs": [
        {
          "output_type": "stream",
          "name": "stdout",
          "text": [
            "[1 2 4]\n"
          ]
        }
      ]
    },
    {
      "cell_type": "code",
      "source": [
        "converted_tensor = tf.convert_to_tensor(np_array)\n",
        "print(converted_tensor)"
      ],
      "metadata": {
        "colab": {
          "base_uri": "https://localhost:8080/"
        },
        "id": "r0X0aVWg8Q1q",
        "outputId": "ffb77aa5-739a-419d-ea01-3f5837120403"
      },
      "execution_count": 17,
      "outputs": [
        {
          "output_type": "stream",
          "name": "stdout",
          "text": [
            "tf.Tensor([1 2 4], shape=(3,), dtype=int64)\n"
          ]
        }
      ]
    },
    {
      "cell_type": "code",
      "source": [
        "eye_tensor = tf.eye(\n",
        "    num_rows=5,\n",
        "    num_columns=3,\n",
        "    batch_shape=None,\n",
        "    dtype= tf.dtypes.float32,\n",
        "    name=None\n",
        ")\n",
        "\n",
        "print(eye_tensor)"
      ],
      "metadata": {
        "colab": {
          "base_uri": "https://localhost:8080/"
        },
        "id": "10h-z1mH6WHR",
        "outputId": "06adea52-880e-401f-a3f3-b0b26bfba734"
      },
      "execution_count": 18,
      "outputs": [
        {
          "output_type": "stream",
          "name": "stdout",
          "text": [
            "tf.Tensor(\n",
            "[[1. 0. 0.]\n",
            " [0. 1. 0.]\n",
            " [0. 0. 1.]\n",
            " [0. 0. 0.]\n",
            " [0. 0. 0.]], shape=(5, 3), dtype=float32)\n"
          ]
        }
      ]
    },
    {
      "cell_type": "code",
      "source": [
        "filled_tensor = tf.fill(\n",
        "    dims = [3,4,1],\n",
        "    value = 5\n",
        ")\n",
        "print(filled_tensor)"
      ],
      "metadata": {
        "colab": {
          "base_uri": "https://localhost:8080/"
        },
        "id": "O7ttHUKIAGQ4",
        "outputId": "0f4944b5-a8a8-4cb2-f02d-f81f1e05c78a"
      },
      "execution_count": 19,
      "outputs": [
        {
          "output_type": "stream",
          "name": "stdout",
          "text": [
            "tf.Tensor(\n",
            "[[[5]\n",
            "  [5]\n",
            "  [5]\n",
            "  [5]]\n",
            "\n",
            " [[5]\n",
            "  [5]\n",
            "  [5]\n",
            "  [5]]\n",
            "\n",
            " [[5]\n",
            "  [5]\n",
            "  [5]\n",
            "  [5]]], shape=(3, 4, 1), dtype=int32)\n"
          ]
        }
      ]
    },
    {
      "cell_type": "code",
      "source": [
        "oned_tensor = tf.ones(\n",
        "    [2,3],\n",
        ")\n",
        "print(oned_tensor)"
      ],
      "metadata": {
        "colab": {
          "base_uri": "https://localhost:8080/"
        },
        "id": "QqcnIDBKBuJL",
        "outputId": "126f29d1-afd7-4ab4-8e4b-e87f04c53b4a"
      },
      "execution_count": 20,
      "outputs": [
        {
          "output_type": "stream",
          "name": "stdout",
          "text": [
            "tf.Tensor(\n",
            "[[1. 1. 1.]\n",
            " [1. 1. 1.]], shape=(2, 3), dtype=float32)\n"
          ]
        }
      ]
    },
    {
      "cell_type": "code",
      "source": [
        "ones_like_tensor = tf.ones_like(filled_tensor)\n",
        "print(ones_like_tensor)"
      ],
      "metadata": {
        "colab": {
          "base_uri": "https://localhost:8080/"
        },
        "id": "V_cSVyu2DJ2f",
        "outputId": "21204190-5153-4067-d8e8-06d9c70a95c9"
      },
      "execution_count": 21,
      "outputs": [
        {
          "output_type": "stream",
          "name": "stdout",
          "text": [
            "tf.Tensor(\n",
            "[[[1]\n",
            "  [1]\n",
            "  [1]\n",
            "  [1]]\n",
            "\n",
            " [[1]\n",
            "  [1]\n",
            "  [1]\n",
            "  [1]]\n",
            "\n",
            " [[1]\n",
            "  [1]\n",
            "  [1]\n",
            "  [1]]], shape=(3, 4, 1), dtype=int32)\n"
          ]
        }
      ]
    },
    {
      "cell_type": "code",
      "source": [
        "random_tensor = tf.random.normal(\n",
        "    [3,2],\n",
        "    mean =  100.0,\n",
        "    stddev = 1.0,\n",
        "    dtype = tf.dtypes.float32,\n",
        "    seed = None,\n",
        "    name=None\n",
        ")\n",
        "print(random_tensor)"
      ],
      "metadata": {
        "colab": {
          "base_uri": "https://localhost:8080/"
        },
        "id": "76tJb8UYDKDe",
        "outputId": "5ed42c21-e8ca-477e-eba8-0b50bfe79c6f"
      },
      "execution_count": 22,
      "outputs": [
        {
          "output_type": "stream",
          "name": "stdout",
          "text": [
            "tf.Tensor(\n",
            "[[100.45212   99.82384 ]\n",
            " [ 98.2284   102.119514]\n",
            " [ 99.81512  100.29827 ]], shape=(3, 2), dtype=float32)\n"
          ]
        }
      ]
    },
    {
      "cell_type": "code",
      "source": [
        "uniform_tensor = tf.random.uniform(\n",
        "    [3,2],\n",
        "    minval=0,\n",
        "    maxval = 1000,\n",
        "    dtype = tf.dtypes.int32,\n",
        "    seed = None,\n",
        "    name = None\n",
        ")\n",
        "print(uniform_tensor)"
      ],
      "metadata": {
        "colab": {
          "base_uri": "https://localhost:8080/"
        },
        "id": "u-k6DcHdBudm",
        "outputId": "39089f34-2c1c-4e51-f940-dfbc3e7ffe11"
      },
      "execution_count": 23,
      "outputs": [
        {
          "output_type": "stream",
          "name": "stdout",
          "text": [
            "tf.Tensor(\n",
            "[[901 642]\n",
            " [517 907]\n",
            " [ 40 594]], shape=(3, 2), dtype=int32)\n"
          ]
        }
      ]
    },
    {
      "cell_type": "code",
      "source": [
        ""
      ],
      "metadata": {
        "id": "8mZ1RjHnBur1"
      },
      "execution_count": 23,
      "outputs": []
    },
    {
      "cell_type": "markdown",
      "source": [
        "Indeing\n"
      ],
      "metadata": {
        "id": "P-BXCpHiI8BA"
      }
    },
    {
      "cell_type": "code",
      "source": [
        "tensor_indeed = tf.constant([3,6,2,4,6,66,7])\n",
        "print(tensor_indeed)\n",
        "\n",
        "print(tensor_indeed[0:4])\n",
        "print(tensor_indeed[1:6])"
      ],
      "metadata": {
        "colab": {
          "base_uri": "https://localhost:8080/"
        },
        "id": "MF7HEl4NI5D7",
        "outputId": "3b70fd28-6aad-4692-d6e6-d6c0322c1e60"
      },
      "execution_count": 24,
      "outputs": [
        {
          "output_type": "stream",
          "name": "stdout",
          "text": [
            "tf.Tensor([ 3  6  2  4  6 66  7], shape=(7,), dtype=int32)\n",
            "tf.Tensor([3 6 2 4], shape=(4,), dtype=int32)\n",
            "tf.Tensor([ 6  2  4  6 66], shape=(5,), dtype=int32)\n"
          ]
        }
      ]
    },
    {
      "cell_type": "code",
      "source": [
        "print(tensor_indeed[3:-2])"
      ],
      "metadata": {
        "colab": {
          "base_uri": "https://localhost:8080/"
        },
        "id": "RG78lbRuI5m_",
        "outputId": "3a57d09b-c5f7-4283-de53-521d80ef7367"
      },
      "execution_count": 25,
      "outputs": [
        {
          "output_type": "stream",
          "name": "stdout",
          "text": [
            "tf.Tensor([4 6], shape=(2,), dtype=int32)\n"
          ]
        }
      ]
    },
    {
      "cell_type": "code",
      "source": [
        "tensor_two_d = tf.constant([\n",
        "    [1,2,0],\n",
        "    [3,5,-1],\n",
        "    [1,5,6],\n",
        "    [2,3,8]\n",
        "])\n",
        "print(tensor_two_d[ 2, 0:])"
      ],
      "metadata": {
        "colab": {
          "base_uri": "https://localhost:8080/"
        },
        "id": "XOQF1_qmI6GQ",
        "outputId": "9e3510ee-9a95-4f30-eda1-5acfb2b1955b"
      },
      "execution_count": 26,
      "outputs": [
        {
          "output_type": "stream",
          "name": "stdout",
          "text": [
            "tf.Tensor([1 5 6], shape=(3,), dtype=int32)\n"
          ]
        }
      ]
    },
    {
      "cell_type": "code",
      "source": [
        "print(tensor_two_d[1:3,0])"
      ],
      "metadata": {
        "colab": {
          "base_uri": "https://localhost:8080/"
        },
        "id": "Myg6dI0RKgOp",
        "outputId": "25730906-395f-4407-d57b-a871af2da0eb"
      },
      "execution_count": 27,
      "outputs": [
        {
          "output_type": "stream",
          "name": "stdout",
          "text": [
            "tf.Tensor([3 1], shape=(2,), dtype=int32)\n"
          ]
        }
      ]
    },
    {
      "cell_type": "code",
      "source": [],
      "metadata": {
        "id": "W7nqAmR4Kge9"
      },
      "execution_count": 27,
      "outputs": []
    },
    {
      "cell_type": "markdown",
      "source": [
        "Maths\n"
      ],
      "metadata": {
        "id": "muPHUKofNEG4"
      }
    },
    {
      "cell_type": "code",
      "source": [
        "y = tf.constant([-2.15,3.25])\n",
        "tf.abs(y)"
      ],
      "metadata": {
        "colab": {
          "base_uri": "https://localhost:8080/"
        },
        "id": "Re5iGEueL2u7",
        "outputId": "239a983c-8198-483e-b6ba-24d61a1cafc7"
      },
      "execution_count": 28,
      "outputs": [
        {
          "output_type": "execute_result",
          "data": {
            "text/plain": [
              "<tf.Tensor: shape=(2,), dtype=float32, numpy=array([2.15, 3.25], dtype=float32)>"
            ]
          },
          "metadata": {},
          "execution_count": 28
        }
      ]
    },
    {
      "cell_type": "code",
      "source": [
        "y1 = tf.constant([5,3,6,6,4,6],dtype = tf.int32)\n",
        "y2 = tf.constant([7,6,2,6,7,11],dtype = tf.int32)\n",
        "print(tf.math.add(y1,y2))\n"
      ],
      "metadata": {
        "colab": {
          "base_uri": "https://localhost:8080/"
        },
        "id": "tr919vsjL3Yk",
        "outputId": "c7083fd2-d6a5-41e9-8676-fb072dc426a9"
      },
      "execution_count": 29,
      "outputs": [
        {
          "output_type": "stream",
          "name": "stdout",
          "text": [
            "tf.Tensor([12  9  8 12 11 17], shape=(6,), dtype=int32)\n"
          ]
        }
      ]
    },
    {
      "cell_type": "code",
      "source": [
        "y1 = tf.constant([5,3,6,6,4,6],dtype = tf.int32)\n",
        "y2 = tf.constant([7],dtype = tf.int32)\n",
        "print(tf.add(y1,y2))\n"
      ],
      "metadata": {
        "colab": {
          "base_uri": "https://localhost:8080/"
        },
        "id": "LrOJb8A8L3zt",
        "outputId": "adee1894-6d32-4a8f-f6f2-f73d85de5861"
      },
      "execution_count": 30,
      "outputs": [
        {
          "output_type": "stream",
          "name": "stdout",
          "text": [
            "tf.Tensor([12 10 13 13 11 13], shape=(6,), dtype=int32)\n"
          ]
        }
      ]
    },
    {
      "cell_type": "code",
      "source": [
        "y_argma = tf.constant([300,200,150,1000])\n",
        "print(tf.math.argmax(y_argma))"
      ],
      "metadata": {
        "colab": {
          "base_uri": "https://localhost:8080/"
        },
        "id": "v9GVLSNNL4Li",
        "outputId": "da30d138-c5d7-4c10-8481-6eb585e540f7"
      },
      "execution_count": 31,
      "outputs": [
        {
          "output_type": "stream",
          "name": "stdout",
          "text": [
            "tf.Tensor(3, shape=(), dtype=int64)\n"
          ]
        }
      ]
    },
    {
      "cell_type": "code",
      "source": [
        "y_argma = tf.constant([\n",
        "    [2,20,30,3,6],\n",
        "    [3,11,16,1,8],\n",
        "    [14,45,23,5,27]\n",
        "])\n",
        "print(tf.math.argmax(y_argma,1))"
      ],
      "metadata": {
        "colab": {
          "base_uri": "https://localhost:8080/"
        },
        "id": "XKI6rPBAKglq",
        "outputId": "e1a83c05-9664-409c-a5e2-209530de229a"
      },
      "execution_count": 32,
      "outputs": [
        {
          "output_type": "stream",
          "name": "stdout",
          "text": [
            "tf.Tensor([2 2 1], shape=(3,), dtype=int64)\n"
          ]
        }
      ]
    },
    {
      "cell_type": "code",
      "source": [
        "tensor_two_d = tf.constant([\n",
        "    [1,2,0],\n",
        "    [3,5,-1],\n",
        "    [1,5,6],\n",
        "    [2,3,8]\n",
        "])\n",
        "print(tf.math.reduce_sum(\n",
        "    tensor_two_d,axis = None, keepdims = False,name =None\n",
        "))\n"
      ],
      "metadata": {
        "colab": {
          "base_uri": "https://localhost:8080/"
        },
        "id": "oaT2WJUoBuyU",
        "outputId": "d983ae16-9362-41c5-eed4-c337661170a5"
      },
      "execution_count": 33,
      "outputs": [
        {
          "output_type": "stream",
          "name": "stdout",
          "text": [
            "tf.Tensor(35, shape=(), dtype=int32)\n"
          ]
        }
      ]
    },
    {
      "cell_type": "code",
      "source": [
        "tensor_two_d = tf.constant([\n",
        "    [1,2,0],\n",
        "    [3,5,-1],\n",
        "    [1,5,6],\n",
        "    [2,3,8]\n",
        "])\n",
        "print(tf.math.reduce_max(\n",
        "    tensor_two_d,axis = None, keepdims = False,name =None\n",
        "))\n"
      ],
      "metadata": {
        "colab": {
          "base_uri": "https://localhost:8080/"
        },
        "id": "fzDZr7WhS512",
        "outputId": "cd7f4915-56f2-40ea-b402-ea62e3c52930"
      },
      "execution_count": 34,
      "outputs": [
        {
          "output_type": "stream",
          "name": "stdout",
          "text": [
            "tf.Tensor(8, shape=(), dtype=int32)\n"
          ]
        }
      ]
    },
    {
      "cell_type": "code",
      "source": [
        "tensor_two_d = tf.constant([\n",
        "    [1,2,0],\n",
        "    [3,5,-1],\n",
        "    [1,5,6],\n",
        "    [2,3,8]\n",
        "])\n",
        "print(tf.math.reduce_sum(\n",
        "    tensor_two_d,axis = 0, keepdims = False,name =None\n",
        "))\n"
      ],
      "metadata": {
        "colab": {
          "base_uri": "https://localhost:8080/"
        },
        "id": "NNE_RUq1S6RT",
        "outputId": "da7c6575-d219-4f19-fafa-ea8a4f6090c9"
      },
      "execution_count": 35,
      "outputs": [
        {
          "output_type": "stream",
          "name": "stdout",
          "text": [
            "tf.Tensor([ 7 15 13], shape=(3,), dtype=int32)\n"
          ]
        }
      ]
    },
    {
      "cell_type": "code",
      "source": [
        "tensor_two_d = tf.constant([\n",
        "    [1,2,0],\n",
        "    [3,5,-1],\n",
        "    [1,5,6],\n",
        "    [2,3,8]\n",
        "])\n",
        "print(tf.math.reduce_sum(\n",
        "    tensor_two_d,axis = 1, keepdims = False,name =None\n",
        "))\n"
      ],
      "metadata": {
        "colab": {
          "base_uri": "https://localhost:8080/"
        },
        "id": "xaSNpTQiS6aT",
        "outputId": "be7175e0-5fc2-4dad-d221-91437987c3bf"
      },
      "execution_count": 36,
      "outputs": [
        {
          "output_type": "stream",
          "name": "stdout",
          "text": [
            "tf.Tensor([ 3  7 12 13], shape=(4,), dtype=int32)\n"
          ]
        }
      ]
    },
    {
      "cell_type": "code",
      "source": [],
      "metadata": {
        "id": "XlYuwdbwBu4s"
      },
      "execution_count": 36,
      "outputs": []
    },
    {
      "cell_type": "markdown",
      "source": [
        "Linear Algebra Operations\n"
      ],
      "metadata": {
        "id": "4BWnbFFTU0fZ"
      }
    },
    {
      "cell_type": "code",
      "source": [
        "import numpy as np"
      ],
      "metadata": {
        "id": "BiNDCJEpUzSt"
      },
      "execution_count": 38,
      "outputs": []
    },
    {
      "cell_type": "code",
      "source": [
        "A = np.array([\n",
        "  [2,6,5,2],\n",
        "  [2,-2,2,3],\n",
        "  [1,5,4,0]\n",
        "])\n",
        "B = np.array([\n",
        "    [2,9,0,3,0],\n",
        "    [3,6,8,-2,2],\n",
        "    [1,3,5,0,1],\n",
        "    [3,0,2,0,5]\n",
        "])\n",
        "print(A.shape)\n",
        "print(B.shape)\n",
        "print(np.matmul(A,B),\"\\n\")\n",
        "\n",
        "print(np.einsum(\"ij,jk->ik\",A,B))"
      ],
      "metadata": {
        "colab": {
          "base_uri": "https://localhost:8080/"
        },
        "id": "L6e4Iv2vsX-u",
        "outputId": "3e207ee8-2167-419c-9e79-da90b80e2dbc"
      },
      "execution_count": 41,
      "outputs": [
        {
          "output_type": "stream",
          "name": "stdout",
          "text": [
            "(3, 4)\n",
            "(4, 5)\n",
            "[[33 69 77 -6 27]\n",
            " [ 9 12  0 10 13]\n",
            " [21 51 60 -7 14]] \n",
            "\n",
            "[[33 69 77 -6 27]\n",
            " [ 9 12  0 10 13]\n",
            " [21 51 60 -7 14]]\n"
          ]
        }
      ]
    },
    {
      "cell_type": "code",
      "source": [
        "A = np.array([\n",
        "  [2,6,5,2],\n",
        "  [2,-2,2,3],\n",
        "  [1,5,4,0]\n",
        "])\n",
        "B = np.array([\n",
        "    [2,9,0,3],\n",
        "    [3,6,8,-2],\n",
        "    [1,3,5,0]\n",
        "])\n",
        "print(A.shape,\"\\n\", B.shape)\n",
        "print(A*B,\"\\n\")\n",
        "\n",
        "print(np.einsum(\"ij,ij->ij\",A,B))"
      ],
      "metadata": {
        "colab": {
          "base_uri": "https://localhost:8080/"
        },
        "id": "IxIAGzPdsYk1",
        "outputId": "e04cf282-601d-4100-d245-d0d306480357"
      },
      "execution_count": 48,
      "outputs": [
        {
          "output_type": "stream",
          "name": "stdout",
          "text": [
            "(3, 4) \n",
            " (3, 4)\n",
            "[[  4  54   0   6]\n",
            " [  6 -12  16  -6]\n",
            " [  1  15  20   0]] \n",
            "\n",
            "[[  4  54   0   6]\n",
            " [  6 -12  16  -6]\n",
            " [  1  15  20   0]]\n"
          ]
        }
      ]
    },
    {
      "cell_type": "code",
      "source": [
        "A = np.array([\n",
        "    [[2,6,5,2],\n",
        "        [2,-2,2,3],\n",
        "        [1,5,4,0],\n",
        "    ],\n",
        "    [[1,3,1,22],\n",
        "        [0,2,2,0],\n",
        "        [1,5,4,1]\n",
        "    ]\n",
        "])\n",
        "print(np.sum(A))\n",
        "\n",
        "print(np.einsum('bij->',A))"
      ],
      "metadata": {
        "colab": {
          "base_uri": "https://localhost:8080/"
        },
        "id": "20fQgKXnUzf3",
        "outputId": "a4ae0dc1-cd95-4d75-d03f-142cd9a9c667"
      },
      "execution_count": 50,
      "outputs": [
        {
          "output_type": "stream",
          "name": "stdout",
          "text": [
            "72\n",
            "72\n"
          ]
        }
      ]
    },
    {
      "cell_type": "code",
      "source": [],
      "metadata": {
        "id": "DvzaLLzLUzq5"
      },
      "execution_count": null,
      "outputs": []
    },
    {
      "cell_type": "markdown",
      "source": [
        "Tensorflow functions\n",
        "  "
      ],
      "metadata": {
        "id": "BoiRHUHO03hy"
      }
    },
    {
      "cell_type": "code",
      "source": [
        "tensor_three_d = tf.constant([\n",
        "     [[2,6,5,2],\n",
        "        [2,-2,2,3],\n",
        "        [1,5,4,0],\n",
        "    ],\n",
        "    [[1,3,1,22],\n",
        "        [0,2,2,0],\n",
        "        [1,5,4,1]\n",
        "    ]\n",
        "])\n",
        "print(tensor_three_d.shape)\n",
        "\n",
        "print(tf.expand_dims(tensor_three_d,axis = 0).shape)"
      ],
      "metadata": {
        "colab": {
          "base_uri": "https://localhost:8080/"
        },
        "id": "JOJPcc8RUz2y",
        "outputId": "2c016fd6-8422-4188-bb71-17b2bfb3215f"
      },
      "execution_count": 54,
      "outputs": [
        {
          "output_type": "stream",
          "name": "stdout",
          "text": [
            "(2, 3, 4)\n",
            "(1, 2, 3, 4)\n"
          ]
        }
      ]
    },
    {
      "cell_type": "code",
      "source": [
        "y = tf.constant([2,3,4,5])\n",
        "print(y.shape)\n",
        "print(tf.expand_dims(y,axis = 0))"
      ],
      "metadata": {
        "colab": {
          "base_uri": "https://localhost:8080/"
        },
        "id": "yiMxfvmf06PU",
        "outputId": "63a7ac45-3d4b-49df-e7d3-329e1b0f6ade"
      },
      "execution_count": 58,
      "outputs": [
        {
          "output_type": "stream",
          "name": "stdout",
          "text": [
            "(4,)\n",
            "tf.Tensor([[2 3 4 5]], shape=(1, 4), dtype=int32)\n"
          ]
        }
      ]
    },
    {
      "cell_type": "code",
      "source": [
        "y = tf.constant([[[2,3,4,5]]])\n",
        "print(y.shape)\n",
        "print(tf.squeeze(y,axis = 0))"
      ],
      "metadata": {
        "colab": {
          "base_uri": "https://localhost:8080/"
        },
        "id": "t2Wf9fJJ06Uz",
        "outputId": "dd1ee14a-6f15-43f0-f447-28ead86a4eab"
      },
      "execution_count": 59,
      "outputs": [
        {
          "output_type": "stream",
          "name": "stdout",
          "text": [
            "(1, 1, 4)\n",
            "tf.Tensor([[2 3 4 5]], shape=(1, 4), dtype=int32)\n"
          ]
        }
      ]
    },
    {
      "cell_type": "code",
      "source": [
        "y_reshape = tf.constant([\n",
        "    [3,5,6,6],\n",
        "    [4,6,-1,2]\n",
        "])\n",
        "tf.reshape(y_reshape,[4,-1])"
      ],
      "metadata": {
        "colab": {
          "base_uri": "https://localhost:8080/"
        },
        "id": "Gxk_cn4U06Zm",
        "outputId": "432279e5-69a1-4c41-9741-fa022263e662"
      },
      "execution_count": 66,
      "outputs": [
        {
          "output_type": "execute_result",
          "data": {
            "text/plain": [
              "<tf.Tensor: shape=(4, 2), dtype=int32, numpy=\n",
              "array([[ 3,  5],\n",
              "       [ 6,  6],\n",
              "       [ 4,  6],\n",
              "       [-1,  2]], dtype=int32)>"
            ]
          },
          "metadata": {},
          "execution_count": 66
        }
      ]
    },
    {
      "cell_type": "code",
      "source": [],
      "metadata": {
        "id": "PYX39paY2wyn"
      },
      "execution_count": null,
      "outputs": []
    },
    {
      "cell_type": "markdown",
      "source": [
        "Tensor Variables\n"
      ],
      "metadata": {
        "id": "OJJbg5L0H5i4"
      }
    },
    {
      "cell_type": "code",
      "source": [
        "y = tf.constant([1,2])\n",
        "y_var = tf.Variable(y, name=\"Var1\")\n",
        "print(y_var)"
      ],
      "metadata": {
        "colab": {
          "base_uri": "https://localhost:8080/"
        },
        "id": "MW_W7MB_2w4w",
        "outputId": "65e4a126-e481-4496-d899-92b75d286f2c"
      },
      "execution_count": 68,
      "outputs": [
        {
          "output_type": "stream",
          "name": "stdout",
          "text": [
            "<tf.Variable 'Var1:0' shape=(2,) dtype=int32, numpy=array([1, 2], dtype=int32)>\n"
          ]
        }
      ]
    },
    {
      "cell_type": "markdown",
      "source": [],
      "metadata": {
        "id": "LKINGjYqXFO3"
      }
    },
    {
      "cell_type": "code",
      "source": [
        "y_var.assign_add([10,16])"
      ],
      "metadata": {
        "colab": {
          "base_uri": "https://localhost:8080/"
        },
        "id": "TQQmyukgIE2k",
        "outputId": "7a16d29f-68d4-478e-bf1c-11ca5255c3ea"
      },
      "execution_count": 72,
      "outputs": [
        {
          "output_type": "execute_result",
          "data": {
            "text/plain": [
              "<tf.Variable 'UnreadVariable' shape=(2,) dtype=int32, numpy=array([0, 0], dtype=int32)>"
            ]
          },
          "metadata": {},
          "execution_count": 72
        }
      ]
    },
    {
      "cell_type": "code",
      "source": [
        "with tf.device('CPU:0'):\n",
        "  y_var = tf.Variable(0.2)\n",
        "\n",
        "print(y_var.device)"
      ],
      "metadata": {
        "colab": {
          "base_uri": "https://localhost:8080/"
        },
        "id": "G9utskaTIFMa",
        "outputId": "c1dcb24a-9431-4c39-d7e8-69588a58af77"
      },
      "execution_count": 78,
      "outputs": [
        {
          "output_type": "stream",
          "name": "stdout",
          "text": [
            "/job:localhost/replica:0/task:0/device:CPU:0\n"
          ]
        }
      ]
    },
    {
      "cell_type": "code",
      "source": [],
      "metadata": {
        "id": "Y1RsgpvUIFV9"
      },
      "execution_count": 75,
      "outputs": []
    },
    {
      "cell_type": "code",
      "source": [],
      "metadata": {
        "id": "naEbcLGrIFks"
      },
      "execution_count": null,
      "outputs": []
    },
    {
      "cell_type": "code",
      "source": [],
      "metadata": {
        "id": "0lr9wGFqIFyc"
      },
      "execution_count": null,
      "outputs": []
    },
    {
      "cell_type": "code",
      "source": [],
      "metadata": {
        "id": "baFhXfWl2xAH"
      },
      "execution_count": null,
      "outputs": []
    },
    {
      "cell_type": "code",
      "source": [],
      "metadata": {
        "id": "_O1peOrr2xRo"
      },
      "execution_count": null,
      "outputs": []
    },
    {
      "cell_type": "code",
      "source": [],
      "metadata": {
        "id": "VV7YFh0B06h7"
      },
      "execution_count": null,
      "outputs": []
    },
    {
      "cell_type": "code",
      "source": [],
      "metadata": {
        "id": "qE35OJfj06o-"
      },
      "execution_count": null,
      "outputs": []
    },
    {
      "cell_type": "code",
      "source": [],
      "metadata": {
        "id": "gB2Wy-6wBu_F"
      },
      "execution_count": null,
      "outputs": []
    },
    {
      "cell_type": "code",
      "source": [],
      "metadata": {
        "id": "2ejD3bOz6WPF"
      },
      "execution_count": null,
      "outputs": []
    }
  ]
}